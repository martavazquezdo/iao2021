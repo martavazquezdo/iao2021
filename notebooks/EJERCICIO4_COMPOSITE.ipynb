{
 "cells": [
  {
   "cell_type": "markdown",
   "metadata": {},
   "source": [
    "# PATRONES DE TELECONEXIÓN"
   ]
  },
  {
   "cell_type": "markdown",
   "metadata": {},
   "source": [
    "En este ejercicio trataremos de analizar como los patrones de teleconexión pueden afectar el transporte desde la fuente hacia los continentes.\n",
    "\n",
    "Se trata de seleccionar aquellos años que muestren un patrón de teleconexión concreto y ver lo que sucede con las fuentes para esos años y como varía con respecto a la climatología.\n",
    "\n",
    "En este caso concreto analizaremos como la Oscilación del Atlántico Norte (NAO) y ENSO afectan al transporte.\n",
    "\n",
    "En primer lugar deberás seleccionar los años que muestran índices positivos y negativos de cada patrón más elevados. Esto puedes consultarlo en la siguiente página web:\n",
    "\n",
    "https://www.cpc.ncep.noaa.gov/products/precip/CWlink/pna/norm.nao.monthly.b5001.current.ascii.table\n",
    "\n",
    "https://www.psl.noaa.gov/enso/mei/data/meiv2.data\n",
    "\n",
    "Deberás seleccionar para enero y para julio los 5 años con valores de NAO más intensos tanto positivos como negativos (10 años en total para cada uno de los meses)."
   ]
  },
  {
   "cell_type": "code",
   "execution_count": null,
   "metadata": {},
   "outputs": [],
   "source": [
    "import numpy as np"
   ]
  },
  {
   "cell_type": "markdown",
   "metadata": {},
   "source": [
    "## CARGAMOS LOS DATOS PARA EL PERIODO QUE NOS INTERESA"
   ]
  },
  {
   "cell_type": "markdown",
   "metadata": {},
   "source": [
    "Cargamos los datos para todos los meses para el periodo 1980-2018"
   ]
  },
  {
   "cell_type": "code",
   "execution_count": null,
   "metadata": {},
   "outputs": [],
   "source": [
    "dataENSO = np.genfromtxt('https://psl.noaa.gov/enso/mei/data/meiv2.data', skip_header=1, skip_footer=4)"
   ]
  },
  {
   "cell_type": "code",
   "execution_count": null,
   "metadata": {},
   "outputs": [],
   "source": [
    "dataNAO = np.genfromtxt('https://www.cpc.ncep.noaa.gov/products/precip/CWlink/pna/norm.nao.monthly.b5001.current.ascii.table', skip_header=1, skip_footer=1)"
   ]
  },
  {
   "cell_type": "markdown",
   "metadata": {},
   "source": [
    "Seleccionamos el mes que nos interesa"
   ]
  },
  {
   "cell_type": "code",
   "execution_count": null,
   "metadata": {},
   "outputs": [],
   "source": []
  },
  {
   "cell_type": "markdown",
   "metadata": {},
   "source": [
    "Selccionamos el vector de los años"
   ]
  },
  {
   "cell_type": "code",
   "execution_count": null,
   "metadata": {},
   "outputs": [],
   "source": [
    "anhos="
   ]
  },
  {
   "cell_type": "markdown",
   "metadata": {},
   "source": [
    "## SELECCIONAR LOS AÑOS"
   ]
  },
  {
   "cell_type": "markdown",
   "metadata": {},
   "source": [
    "Seleccionamos los 5 años con valor mayor y menor"
   ]
  },
  {
   "cell_type": "code",
   "execution_count": null,
   "metadata": {},
   "outputs": [],
   "source": [
    "anomin=np.zeros([5])\n",
    "anomax=np.zeros([5])"
   ]
  },
  {
   "cell_type": "code",
   "execution_count": null,
   "metadata": {},
   "outputs": [],
   "source": [
    "for ano in range(0,5):\n",
    "    anomax[ano]=anhos[np.argmax(matrixmes)]\n",
    "    matrixmes[np.argmax(matrixmes)]=0\n",
    "#    anomin[ano]=\n",
    "    "
   ]
  },
  {
   "cell_type": "markdown",
   "metadata": {},
   "source": [
    "## COMPOSITES PARA LOS AÑOS"
   ]
  },
  {
   "cell_type": "markdown",
   "metadata": {},
   "source": [
    "Calculamos la contribución solo para los años seleccionador"
   ]
  },
  {
   "cell_type": "code",
   "execution_count": null,
   "metadata": {},
   "outputs": [],
   "source": []
  },
  {
   "cell_type": "markdown",
   "metadata": {},
   "source": [
    "## DIFERENCIA DE COMPOSITES"
   ]
  },
  {
   "cell_type": "markdown",
   "metadata": {},
   "source": [
    "Calculamos la diferencia"
   ]
  },
  {
   "cell_type": "code",
   "execution_count": null,
   "metadata": {},
   "outputs": [],
   "source": []
  },
  {
   "cell_type": "markdown",
   "metadata": {},
   "source": [
    "Guardamos los datos por separado y para la diferencia"
   ]
  },
  {
   "cell_type": "code",
   "execution_count": null,
   "metadata": {},
   "outputs": [],
   "source": []
  }
 ],
 "metadata": {
  "kernelspec": {
   "display_name": "Python 3",
   "language": "python",
   "name": "python3"
  },
  "language_info": {
   "codemirror_mode": {
    "name": "ipython",
    "version": 3
   },
   "file_extension": ".py",
   "mimetype": "text/x-python",
   "name": "python",
   "nbconvert_exporter": "python",
   "pygments_lexer": "ipython3",
   "version": "3.8.5"
  }
 },
 "nbformat": 4,
 "nbformat_minor": 4
}
