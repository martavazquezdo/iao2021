{
 "cells": [
  {
   "cell_type": "markdown",
   "metadata": {},
   "source": [
    "# DEFINICION DE LAS FUENTES DE HUMEDAD"
   ]
  },
  {
   "cell_type": "markdown",
   "metadata": {},
   "source": [
    "En este ejercicio veremos como se calculan las fuentes de humedad que usaremos en los ejercios posteriores. Las fuentes se definen mediante una metodología euleriana a través de la divergencia en el flujo de humedad."
   ]
  },
  {
   "cell_type": "markdown",
   "metadata": {},
   "source": [
    "Los datos que se emplearan tanto es este ejercios como en los ejercicios siguientes están disponibles en el repositorio https://github.com/martavazquezdo/iao2021.git\n",
    "Los archivos .dat pueden cargarse directamente desde el repositorio, sin embargo los netcdf deben descargarse y cargarse directamente como archivo local."
   ]
  },
  {
   "cell_type": "code",
   "execution_count": 6,
   "metadata": {},
   "outputs": [],
   "source": [
    "import numpy as np\n",
    "from netCDF4 import Dataset\n",
    "import math"
   ]
  },
  {
   "cell_type": "code",
   "execution_count": 16,
   "metadata": {},
   "outputs": [],
   "source": [
    "datau=Dataset('/Users/martavazquezdominguez/Desktop/carpeta sin título/VIMF/east_flux_final_01_1980_2015.nc')\n",
    "datav=Dataset('/Users/martavazquezdominguez/Desktop/carpeta sin título/VIMF/north_flux_final_01_1980_2015.nc')"
   ]
  },
  {
   "cell_type": "code",
   "execution_count": 17,
   "metadata": {},
   "outputs": [],
   "source": [
    "lats = datau.variables['latitude'][:]\n",
    "lons = datau.variables['longitude'][:]\n",
    "times = datau.variables['time'][:]\n",
    "uq= datau.variables['uq'][:][:][:]\n",
    "vq= datav.variables['vq'][:][:][:]\n",
    "datau.close()\n",
    "datav.close()"
   ]
  },
  {
   "cell_type": "markdown",
   "metadata": {},
   "source": [
    "Calculamos la media para las componentes de flujo"
   ]
  },
  {
   "cell_type": "code",
   "execution_count": 19,
   "metadata": {},
   "outputs": [],
   "source": [
    "u=np.nanmean(uq,axis=0)\n",
    "v=np.nanmean(vq,axis=0)"
   ]
  },
  {
   "cell_type": "markdown",
   "metadata": {},
   "source": [
    "## CALCULO DIVERGENCIA"
   ]
  },
  {
   "cell_type": "markdown",
   "metadata": {},
   "source": [
    "Datos para calcular las distancias"
   ]
  },
  {
   "cell_type": "code",
   "execution_count": 20,
   "metadata": {},
   "outputs": [],
   "source": [
    "rt = 6371000. #Radio medio de la Tierra en metros\n",
    "gr = math.pi/180."
   ]
  },
  {
   "cell_type": "markdown",
   "metadata": {},
   "source": [
    "Calculamos dx y dy"
   ]
  },
  {
   "cell_type": "code",
   "execution_count": 21,
   "metadata": {},
   "outputs": [],
   "source": [
    "dfsln=np.diff(lons)\n",
    "dfslt=np.diff(lats)\n",
    "\n",
    "dx=np.zeros([180,359])\n",
    "dy=np.zeros([180,359])"
   ]
  },
  {
   "cell_type": "code",
   "execution_count": 22,
   "metadata": {},
   "outputs": [],
   "source": [
    "for ltr in range(0,180):\n",
    "    for lnr in range(0,359):\n",
    "        dx[ltr,lnr] = rt * math.cos (gr * lats[ltr]) * gr * dfsln[lnr] \n",
    "\n",
    "\n",
    "for ltr in range(0,180):\n",
    "    for lnr in range(0,359):\n",
    "        dy[ltr,lnr] = rt * gr * dfslt[ltr]"
   ]
  },
  {
   "cell_type": "markdown",
   "metadata": {},
   "source": [
    "Esto es un factor de corrección necesario para el cálculo"
   ]
  },
  {
   "cell_type": "code",
   "execution_count": 23,
   "metadata": {},
   "outputs": [],
   "source": [
    "corr=np.zeros([180,359])\n",
    "\n",
    "for ltr in range(0,180):\n",
    "    for lnr in range(0,359):\n",
    "        corr[ltr,lnr]=v[ltr,lnr]* math.tan (gr * lats[ltr]) / rt"
   ]
  },
  {
   "cell_type": "markdown",
   "metadata": {},
   "source": [
    "Calculo de las \"derivadas\" y divergencia"
   ]
  },
  {
   "cell_type": "code",
   "execution_count": 24,
   "metadata": {},
   "outputs": [],
   "source": [
    "dfsuq=np.diff (u, axis=-1)\n",
    "dfsvq=np.diff (v, axis=-2)\n",
    "\n",
    "du_dx=np.divide(dfsuq[1:,:],dx)\n",
    "dv_dy=np.divide(dfsvq[:,1:], dy)\n",
    "\n",
    "divg = du_dx + dv_dy - corr  "
   ]
  },
  {
   "cell_type": "markdown",
   "metadata": {},
   "source": [
    "El valor de la divergencia da valores falsos, para quitar estos valores eliminamos los datos con valor absoluto mayor que 1"
   ]
  },
  {
   "cell_type": "code",
   "execution_count": 33,
   "metadata": {},
   "outputs": [],
   "source": [
    "divg=np.where(divg>1,np.nan,divg)\n",
    "divg=np.where(divg<-1,np.nan,divg)"
   ]
  },
  {
   "cell_type": "markdown",
   "metadata": {},
   "source": [
    "Los datos están en kg/m s. Debemos pasarlos a mm/dia"
   ]
  },
  {
   "cell_type": "code",
   "execution_count": 37,
   "metadata": {},
   "outputs": [],
   "source": [
    "divg=divg*86400"
   ]
  },
  {
   "cell_type": "markdown",
   "metadata": {},
   "source": [
    "Guardamos los datos"
   ]
  },
  {
   "cell_type": "code",
   "execution_count": 40,
   "metadata": {},
   "outputs": [],
   "source": [
    "#SAVE RESULTS\n",
    "            \n",
    "datatotal = Dataset('divergence_01_.nc','w',format='NETCDF4_CLASSIC')\n",
    "lat = datatotal.createDimension('lat', 180)\n",
    "lon = datatotal.createDimension('lon', 359)\n",
    "            \n",
    "latitudes = datatotal.createVariable('latitude', np.float32,('lat',))\n",
    "longitudes = datatotal.createVariable('longitude', np.float32,('lon',))\n",
    "            \n",
    "dataVIMF = datatotal.createVariable('DIVERGENCE', np.float32,('lat','lon'))\n",
    "        \n",
    "# Variable Attributes\n",
    "            \n",
    "latitudes.units = 'degree_north'\n",
    "longitudes.units = 'degree_east'\n",
    "dataVIMF.units = 'mm/day'\n",
    "            \n",
    "latitudes[:] = np.arange(90,-90,-1)\n",
    "longitudes[:] = np.arange(0,359,1)\n",
    "            \n",
    "dataVIMF[:,:]=divg[:,:]\n",
    "\n",
    "datatotal.close()"
   ]
  },
  {
   "cell_type": "markdown",
   "metadata": {},
   "source": [
    "Las fuentes aqui definidas siguen la metodología establecida en el siguiente artículo: https://www.sciencedirect.com/science/article/abs/pii/S0309170819300818"
   ]
  },
  {
   "cell_type": "markdown",
   "metadata": {},
   "source": [
    "Los umbrales utilizados para definir las fuentes de humedad son los siguientes:"
   ]
  },
  {
   "cell_type": "markdown",
   "metadata": {},
   "source": [
    "<img src=\"Tabla_valores.png\">"
   ]
  },
  {
   "cell_type": "markdown",
   "metadata": {},
   "source": [
    "Los valores oceánicos se correponden con el percentil 50 de la divergencia del flujo"
   ]
  },
  {
   "cell_type": "markdown",
   "metadata": {},
   "source": [
    "## Seleccionar el área de las fuentes Oceánicas"
   ]
  },
  {
   "cell_type": "markdown",
   "metadata": {},
   "source": [
    "Calcular el umbral en mm/dia y eliminar los valores por debajo del umbral"
   ]
  },
  {
   "cell_type": "code",
   "execution_count": null,
   "metadata": {},
   "outputs": [],
   "source": []
  },
  {
   "cell_type": "markdown",
   "metadata": {},
   "source": [
    "Guardar los resultados"
   ]
  },
  {
   "cell_type": "code",
   "execution_count": null,
   "metadata": {},
   "outputs": [],
   "source": []
  }
 ],
 "metadata": {
  "kernelspec": {
   "display_name": "Python 3",
   "language": "python",
   "name": "python3"
  },
  "language_info": {
   "codemirror_mode": {
    "name": "ipython",
    "version": 3
   },
   "file_extension": ".py",
   "mimetype": "text/x-python",
   "name": "python",
   "nbconvert_exporter": "python",
   "pygments_lexer": "ipython3",
   "version": "3.8.5"
  }
 },
 "nbformat": 4,
 "nbformat_minor": 4
}
